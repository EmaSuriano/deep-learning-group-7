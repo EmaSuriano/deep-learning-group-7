{
 "cells": [
  {
   "cell_type": "markdown",
   "metadata": {},
   "source": [
    "## Grupo 7\n",
    "\n",
    "Integrantes:\n",
    "\n",
    "- Fredys Alberto Simanca Herrera\n",
    "- Julio Emanuel Suriano Bryk\n",
    "- Fernando Javier Vera Pérez\n",
    "- José Fernández López\n",
    "\n",
    "Dataset seleccionado:\n",
    "\n",
    "- [Yoga Posture Dataset](https://www.kaggle.com/datasets/tr1gg3rtrash/yoga-posture-dataset/data)\n"
   ]
  },
  {
   "cell_type": "markdown",
   "metadata": {},
   "source": [
    "## Estrategia 1 - Entrenar desde cero"
   ]
  },
  {
   "cell_type": "markdown",
   "metadata": {},
   "source": [
    "* Diseñar y entrenar una CNN desde cero\n",
    "* Utilizar tecnicas de regularizacion (*weight regularization*, *dropout*, *batch normalization*, *data augmentation*, etc.).\n",
    "* Mostrar resultados (curvas)\n",
    "* Realizar analisis de los resultados y de las mejores basando en las capas"
   ]
  },
  {
   "cell_type": "markdown",
   "metadata": {},
   "source": [
    "## Estrategia 2 - Red pre-entrenada"
   ]
  },
  {
   "cell_type": "markdown",
   "metadata": {},
   "source": [
    "* Utilizar una red preentrenada con el dataset ImageNet, llevando a cabo `transfer-learning` y `fine-tuning`\n",
    "* Deben compararse al menos **dos** tipos de arquitecturas: (VGGs, ResNet50, Xception, InceptionV3, InceptionResNetV2, MobileNetV2, DenseNet, ResNet)\n",
    "* Utilizar tecnicas de regularizacion (*weight regularization*, *dropout*, *batch normalization*, *data augmentation*, etc.).\n",
    "* Realizar analisis de los resultados y de las mejores basando en las capas"
   ]
  }
 ],
 "metadata": {
  "kernelspec": {
   "display_name": "myenv",
   "language": "python",
   "name": "python3"
  },
  "language_info": {
   "codemirror_mode": {
    "name": "ipython",
    "version": 3
   },
   "file_extension": ".py",
   "mimetype": "text/x-python",
   "name": "python",
   "nbconvert_exporter": "python",
   "pygments_lexer": "ipython3",
   "version": "3.11.10"
  }
 },
 "nbformat": 4,
 "nbformat_minor": 2
}
